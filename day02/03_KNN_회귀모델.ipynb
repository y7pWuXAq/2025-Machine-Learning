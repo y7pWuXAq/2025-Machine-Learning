{
 "cells": [
  {
   "cell_type": "code",
   "execution_count": 3,
   "id": "c1c2c4cd-57e1-44cb-9500-4b9b2d1c5348",
   "metadata": {},
   "outputs": [],
   "source": [
    "### 라이브러리 정의\n",
    "import numpy as np\n",
    "\n",
    "### 시각화 라이브러리\n",
    "import matplotlib.pyplot as plt\n",
    "\n",
    "# - 히트맵 라이브러리\n",
    "import seaborn as sns\n",
    "\n",
    "# - 한글처리\n",
    "plt.rc(\"font\", family=\"Malgun Gothic\")\n",
    "\n",
    "# - 마이너스 기호 깨짐 처리\n",
    "plt.rcParams[\"axes.unicode_minus\"] = False"
   ]
  },
  {
   "cell_type": "code",
   "execution_count": 2,
   "id": "c7adee44-fccd-42a4-bf49-2b34114a59fb",
   "metadata": {},
   "outputs": [
    {
     "data": {
      "text/plain": [
       "((56,), (56,))"
      ]
     },
     "execution_count": 2,
     "metadata": {},
     "output_type": "execute_result"
    }
   ],
   "source": [
    "### 농어의 길이\n",
    "perch_length = np.array(\n",
    "    [8.4, 13.7, 15.0, 16.2, 17.4, 18.0, 18.7, 19.0, 19.6, 20.0, \n",
    "     21.0, 21.0, 21.0, 21.3, 22.0, 22.0, 22.0, 22.0, 22.0, 22.5, \n",
    "     22.5, 22.7, 23.0, 23.5, 24.0, 24.0, 24.6, 25.0, 25.6, 26.5, \n",
    "     27.3, 27.5, 27.5, 27.5, 28.0, 28.7, 30.0, 32.8, 34.5, 35.0, \n",
    "     36.5, 36.0, 37.0, 37.0, 39.0, 39.0, 39.0, 40.0, 40.0, 40.0, \n",
    "     40.0, 42.0, 43.0, 43.0, 43.5, 44.0]\n",
    "     )\n",
    "\n",
    "### 농어의 무게\n",
    "perch_weight = np.array(\n",
    "    [5.9, 32.0, 40.0, 51.5, 70.0, 100.0, 78.0, 80.0, 85.0, 85.0, \n",
    "     110.0, 115.0, 125.0, 130.0, 120.0, 120.0, 130.0, 135.0, 110.0, \n",
    "     130.0, 150.0, 145.0, 150.0, 170.0, 225.0, 145.0, 188.0, 180.0, \n",
    "     197.0, 218.0, 300.0, 260.0, 265.0, 250.0, 250.0, 300.0, 320.0, \n",
    "     514.0, 556.0, 840.0, 685.0, 700.0, 700.0, 690.0, 900.0, 650.0, \n",
    "     820.0, 850.0, 900.0, 1015.0, 820.0, 1100.0, 1000.0, 1100.0, \n",
    "     1000.0, 1000.0]\n",
    "     )\n",
    "\n",
    "perch_length.shape, perch_weight.shape"
   ]
  },
  {
   "cell_type": "markdown",
   "id": "aa459907",
   "metadata": {},
   "source": [
    "##### 농어의 길이를 이용해 무게 예측하기\n",
    "\n",
    "- 독립변수 : 길이\n",
    "- 종속변수 : 무게\n",
    "<br>\n",
    "\n",
    "- 종속변수의 데이터 형태는 \"연속형 데이터\" 형태이므로 -> 회귀분석 진행\n",
    "    - 회귀분석의 예측결과 값은 \"추정값\" (정확한 값은 아님, 오차 있음)"
   ]
  },
  {
   "cell_type": "code",
   "execution_count": null,
   "id": "89a6486a-a1cb-40af-991c-ac428b02e5e5",
   "metadata": {},
   "outputs": [
    {
     "data": {
      "image/png": "[encoded data removed]",
      "text/plain": [
       "<Figure size 640x480 with 1 Axes>"
      ]
     },
     "metadata": {},
     "output_type": "display_data"
    }
   ],
   "source": [
    "### 농어의 길이와 무게를 산점도 그래프로 시각화 하기\n",
    "# - 해석도 진행\n",
    "plt.title(\"농어의 길이와 무게 산점도 시각화\")\n",
    "\n",
    "plt.scatter(perch_length, perch_weight)\n",
    "\n",
    "plt.xlabel(\"길이\")\n",
    "plt.ylabel(\"무게\")\n",
    "plt.show()\n",
    "\n",
    "### (해석)\n",
    "# - x축의 길이가 커질수록, y축의 무게가 커지는 현상을 보이고 있음\n",
    "# - 우상향의 양의 상관관계 분포를 보이고 있음\n",
    "# - 따라서, 길이와 무게는 연관성이 있는 것으로 확인됨\n",
    "# - 산점도의 형태는 선형을 나타내고 있으며, 곡선 형태를 띄고 있음\n",
    "# - 길이를 이용해서 무게를 예측하는 회귀분석 방법인 선형 방정식을 이용하면 \n",
    "#   예측하고자하는 무게에 대한 추정이 가능할 것으로 판단됨\n",
    "\n",
    "### 선형 방정식에는 기울기와 절편이 있음\n",
    "# - 직선의 방정식(y) = ax + b\n",
    "# - 곡선의 방정식(y) = ax^2 + bx + c\n",
    "# 선형 방정식에서 우리가 알고 있는 값은 : x값\n",
    "# 모델이 알아서 찾아내는 값은 : 기울기, 절편\n",
    "\n",
    "### 회귀모델은 선형의 형태를 스스로 판단하고,\n",
    "#    - 스스로 기울기와 절편을 찾아냄\n",
    "#    --> 스스로 판단하고 찾아내는 것을 --> 훈련(모델 훈련)"
   ]
  },
  {
   "cell_type": "markdown",
   "id": "9b81c16f-0e4c-460a-b97c-7064a2b75ab4",
   "metadata": {},
   "source": [
    "#### 데이터 분리하기"
   ]
  },
  {
   "cell_type": "code",
   "execution_count": 5,
   "id": "f03c89c9-13b3-4e97-a9d7-e772bc2c6c44",
   "metadata": {},
   "outputs": [],
   "source": [
    "from sklearn.model_selection import train_test_split"
   ]
  },
  {
   "cell_type": "code",
   "execution_count": null,
   "id": "370907bc-1c37-4843-8436-32cd188e6725",
   "metadata": {},
   "outputs": [
    {
     "name": "stdout",
     "output_type": "stream",
     "text": [
      "(42,) (42,)\n",
      "(14,) (14,)\n"
     ]
    }
   ],
   "source": [
    "### 훈련 및 테스트 데이터로 분리\n",
    "# - 분리 비율 : 75% : 25%\n",
    "# - 랜덤규칙 : 42\n",
    "# - 회귀분석에서는 편향을 고려하지 않아도 됨\n",
    "# - 사용할 변수명 : train_input, train_target, test_input, test_target\n",
    "train_input, test_input, train_target, test_target = train_test_split(\n",
    "    perch_length, perch_weight, test_size=0.25, random_state=42\n",
    ")\n",
    "\n",
    "print(train_input.shape, train_target.shape)\n",
    "print(test_input.shape, test_target.shape)"
   ]
  },
  {
   "cell_type": "code",
   "execution_count": null,
   "id": "6d1a262d-81c1-49f9-8bfa-0f89abb1a5a7",
   "metadata": {},
   "outputs": [],
   "source": [
    "### 훈련 및 테스트 독립변수의 차원이 1차원으로 되어 있음\n",
    "# - 머신러닝에서는 독립변수의 차원은 2차원이어야 함\n",
    "# - 훈련 및 테스트 독립변수의 차원을 2차원으로 만들려면\n",
    "# print(f\"원본 훈련 독립 데이터 : {train_input}\")\n",
    "\n",
    "### 2차원으로 변경하는 넘파이 함수 사용 : reshape(행, 열)\n",
    "# 첫번째 값 : -1은 전체 행을 의미\n",
    "# 두번째 값 : 생성할 열을 의미\n",
    "# reshape(-1, 1) : train_input 데이터의 전체 행에 대한 1개의 열을 생성 (행, 열로 만들어냄)\n",
    "train_input = train_input.reshape(-1, 1)\n",
    "test_input = test_input.reshape(-1, 1)"
   ]
  },
  {
   "cell_type": "code",
   "execution_count": 13,
   "id": "96ba5d92-c55f-46f7-9b2a-90a798c4a80f",
   "metadata": {},
   "outputs": [
    {
     "name": "stdout",
     "output_type": "stream",
     "text": [
      "(42, 1) (14, 1)\n"
     ]
    }
   ],
   "source": [
    "print(train_input.shape, test_input.shape)"
   ]
  },
  {
   "cell_type": "code",
   "execution_count": 14,
   "id": "d9ce6b15-51f7-4fb6-b5a4-b03a0a629b0a",
   "metadata": {},
   "outputs": [
    {
     "name": "stdout",
     "output_type": "stream",
     "text": [
      "(42, 1) (42,)\n",
      "(14, 1) (14,)\n"
     ]
    }
   ],
   "source": [
    "### 최종 원본\n",
    "print(train_input.shape, train_target.shape)\n",
    "print(test_input.shape, test_target.shape)"
   ]
  },
  {
   "cell_type": "markdown",
   "id": "464551d7-2181-4964-be8a-6bf98d6d759b",
   "metadata": {},
   "source": [
    "#### 회귀모델로 훈련하기"
   ]
  },
  {
   "cell_type": "code",
   "execution_count": 15,
   "id": "70f19bb3-b2ef-42e2-8a62-7c502db37d66",
   "metadata": {},
   "outputs": [],
   "source": [
    "### KNN 회귀모델 라이브러리 정의하기\n",
    "from sklearn.neighbors import KNeighborsRegressor"
   ]
  },
  {
   "cell_type": "code",
   "execution_count": 16,
   "id": "610dff0d-db16-48ae-86b4-b50dedae58b1",
   "metadata": {},
   "outputs": [
    {
     "name": "stdout",
     "output_type": "stream",
     "text": [
      "훈련정확도 : 0.9698823289099254, 테스트정확도 : 0.992809406101064\n"
     ]
    }
   ],
   "source": [
    "### 1. 모델 생성하기\n",
    "knr = KNeighborsRegressor()\n",
    "\n",
    "### 2. 모델 훈련시키기\n",
    "knr.fit(train_input, train_target)\n",
    "\n",
    "### 3. 훈련 및 테스트 결정계수(r2) 확인하기\n",
    "train_score = knr.score(train_input, train_target)\n",
    "test_score = knr.score(test_input, test_target)\n",
    "\n",
    "print(f\"훈련 결정계수 : {train_score}, 테스트 결정계수 : {test_score}\")"
   ]
  },
  {
   "cell_type": "markdown",
   "id": "d0537061",
   "metadata": {},
   "source": [
    "- 회귀모델의 결정계수(정확도)\n",
    "    - 회귀모델에서는 정확도라고 표현하지 않으며, \"결정계수\"라고 함\n",
    "    - 결정계수의 다른 표현 : 결정력, 설명력 이라고 함\n",
    "    - 결정계수 값의 범위 : 0 ~ 1 사이의 값 (1에 가까울 수록 좋음)\n",
    "    - 결과 문서 작성시 \n",
    "        - \"훈련의 결정계수가 0.97로 설명력이 매우 좋은 모델로 판단됨\" 이라고 작성함\n",
    "- 모델이 좋다 나쁘다의 판단 기준 값으로 사용\n",
    "- +- 0.03 정도의 오차가 있는 모델이라고 표현"
   ]
  },
  {
   "cell_type": "code",
   "execution_count": 19,
   "id": "d51000fd-13d7-44bc-a048-6b3ec9b75f8c",
   "metadata": {},
   "outputs": [
    {
     "name": "stdout",
     "output_type": "stream",
     "text": [
      "[  60.    79.6  248.   122.   136.   847.   311.4  183.4  847.   113.\n",
      " 1010.    60.   248.   248. ]\n",
      "[   5.9  100.   250.   130.   130.   820.   320.   188.   900.   125.\n",
      " 1000.    51.5  250.   300. ]\n"
     ]
    }
   ],
   "source": [
    "### 4. 테스트 데이터로 예측해 보기\n",
    "test_pred = knr.predict(test_input)\n",
    "print(test_pred)\n",
    "print(test_target)"
   ]
  }
 ],
 "metadata": {
  "kernelspec": {
   "display_name": "pk_dl_202503_kernel",
   "language": "python",
   "name": "pk_dl_202503"
  },
  "language_info": {
   "codemirror_mode": {
    "name": "ipython",
    "version": 3
   },
   "file_extension": ".py",
   "mimetype": "text/x-python",
   "name": "python",
   "nbconvert_exporter": "python",
   "pygments_lexer": "ipython3",
   "version": "3.9.21"
  }
 },
 "nbformat": 4,
 "nbformat_minor": 5
}

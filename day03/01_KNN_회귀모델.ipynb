{
 "cells": [
  {
   "cell_type": "code",
   "execution_count": null,
   "id": "c1c2c4cd-57e1-44cb-9500-4b9b2d1c5348",
   "metadata": {},
   "outputs": [],
   "source": [
    "### 라이브러리 정의\n",
    "import numpy as np\n",
    "\n",
    "### 시각화 라이브러리\n",
    "import matplotlib.pyplot as plt\n",
    "\n",
    "# - 히트맵 라이브러리\n",
    "import seaborn as sns\n",
    "\n",
    "### KNN 회귀모델 라이브러리 정의하기\n",
    "from sklearn.neighbors import KNeighborsRegressor\n",
    "\n",
    "# 데이터 분리 라이브러리\n",
    "from sklearn.model_selection import train_test_split\n",
    "\n",
    "# - 한글처리\n",
    "plt.rc(\"font\", family=\"Malgun Gothic\")\n",
    "\n",
    "# - 마이너스 기호 깨짐 처리\n",
    "plt.rcParams[\"axes.unicode_minus\"] = False"
   ]
  },
  {
   "cell_type": "code",
   "execution_count": 2,
   "id": "c7adee44-fccd-42a4-bf49-2b34114a59fb",
   "metadata": {},
   "outputs": [
    {
     "data": {
      "text/plain": [
       "((56,), (56,))"
      ]
     },
     "execution_count": 2,
     "metadata": {},
     "output_type": "execute_result"
    }
   ],
   "source": [
    "### 농어의 길이\n",
    "perch_length = np.array(\n",
    "    [8.4, 13.7, 15.0, 16.2, 17.4, 18.0, 18.7, 19.0, 19.6, 20.0, \n",
    "     21.0, 21.0, 21.0, 21.3, 22.0, 22.0, 22.0, 22.0, 22.0, 22.5, \n",
    "     22.5, 22.7, 23.0, 23.5, 24.0, 24.0, 24.6, 25.0, 25.6, 26.5, \n",
    "     27.3, 27.5, 27.5, 27.5, 28.0, 28.7, 30.0, 32.8, 34.5, 35.0, \n",
    "     36.5, 36.0, 37.0, 37.0, 39.0, 39.0, 39.0, 40.0, 40.0, 40.0, \n",
    "     40.0, 42.0, 43.0, 43.0, 43.5, 44.0]\n",
    "     )\n",
    "\n",
    "### 농어의 무게\n",
    "perch_weight = np.array(\n",
    "    [5.9, 32.0, 40.0, 51.5, 70.0, 100.0, 78.0, 80.0, 85.0, 85.0, \n",
    "     110.0, 115.0, 125.0, 130.0, 120.0, 120.0, 130.0, 135.0, 110.0, \n",
    "     130.0, 150.0, 145.0, 150.0, 170.0, 225.0, 145.0, 188.0, 180.0, \n",
    "     197.0, 218.0, 300.0, 260.0, 265.0, 250.0, 250.0, 300.0, 320.0, \n",
    "     514.0, 556.0, 840.0, 685.0, 700.0, 700.0, 690.0, 900.0, 650.0, \n",
    "     820.0, 850.0, 900.0, 1015.0, 820.0, 1100.0, 1000.0, 1100.0, \n",
    "     1000.0, 1000.0]\n",
    "     )\n",
    "\n",
    "perch_length.shape, perch_weight.shape"
   ]
  },
  {
   "cell_type": "markdown",
   "id": "e8b54880",
   "metadata": {},
   "source": [
    "##### 농어의 길이를 이용해 무게 예측하기\n",
    "\n",
    "- 독립변수 : 길이\n",
    "- 종속변수 : 무게\n",
    "<br>\n",
    "\n",
    "- 종속변수의 데이터 형태는 \"연속형 데이터\" 형태이므로 -> 회귀분석 진행\n",
    "    - 회귀분석의 예측결과 값은 \"추정값\" (정확한 값은 아님, 오차 있음)"
   ]
  },
  {
   "cell_type": "code",
   "execution_count": 3,
   "id": "89a6486a-a1cb-40af-991c-ac428b02e5e5",
   "metadata": {},
   "outputs": [
    {
     "data": {
      "image/png": "[encoded data removed]",
      "text/plain": [
       "<Figure size 640x480 with 1 Axes>"
      ]
     },
     "metadata": {},
     "output_type": "display_data"
    }
   ],
   "source": [
    "### 농어의 길이와 무게를 산점도 그래프로 시각화 하기\n",
    "# - 해석도 진행\n",
    "plt.title(\"농어의 길이와 무게 산점도 시각화\")\n",
    "\n",
    "plt.scatter(perch_length, perch_weight)\n",
    "\n",
    "plt.xlabel(\"길이\")\n",
    "plt.ylabel(\"무게\")\n",
    "plt.show()\n",
    "\n",
    "### (해석)\n",
    "# - x축의 길이가 커질수록, y축의 무게가 커지는 현상을 보이고 있음\n",
    "# - 우상향의 양의 상관관계 분포를 보이고 있음\n",
    "# - 따라서, 길이와 무게는 연관성이 있는 것으로 확인됨\n",
    "# - 산점도의 형태는 선형을 나타내고 있으며, 곡선 형태를 띄고 있음\n",
    "# - 길이를 이용해서 무게를 예측하는 회귀분석 방법인 선형 방정식을 이용하면 \n",
    "#   예측하고자하는 무게에 대한 추정이 가능할 것으로 판단됨\n",
    "\n",
    "### 선형 방정식에는 기울기와 절편이 있음\n",
    "# - 직선의 방정식(y) = ax + b\n",
    "# - 곡선의 방정식(y) = ax^2 + bx + c\n",
    "# 선형 방정식에서 우리가 알고 있는 값은 : x값\n",
    "# 모델이 알아서 찾아내는 값은 : 기울기, 절편\n",
    "\n",
    "### 회귀모델은 선형의 형태를 스스로 판단하고,\n",
    "#    - 스스로 기울기와 절편을 찾아냄\n",
    "#    --> 스스로 판단하고 찾아내는 것을 --> 훈련(모델 훈련)"
   ]
  },
  {
   "cell_type": "markdown",
   "id": "9b81c16f-0e4c-460a-b97c-7064a2b75ab4",
   "metadata": {},
   "source": [
    "#### 데이터 분리하기"
   ]
  },
  {
   "cell_type": "code",
   "execution_count": 4,
   "id": "f03c89c9-13b3-4e97-a9d7-e772bc2c6c44",
   "metadata": {},
   "outputs": [],
   "source": [
    "from sklearn.model_selection import train_test_split"
   ]
  },
  {
   "cell_type": "code",
   "execution_count": 5,
   "id": "370907bc-1c37-4843-8436-32cd188e6725",
   "metadata": {},
   "outputs": [
    {
     "name": "stdout",
     "output_type": "stream",
     "text": [
      "(42,) (42,)\n",
      "(14,) (14,)\n"
     ]
    }
   ],
   "source": [
    "### 훈련 및 테스트 데이터로 분리\n",
    "# - 분리 비율 : 75% : 25%\n",
    "# - 랜덤규칙 : 42\n",
    "# - 회귀분석에서는 편향을 고려하지 않아도 됨\n",
    "# - 사용할 변수명 : train_input, train_target, test_input, test_target\n",
    "train_input, test_input, train_target, test_target = train_test_split(\n",
    "    perch_length, perch_weight, test_size=0.25, random_state=42\n",
    ")\n",
    "\n",
    "print(train_input.shape, train_target.shape)\n",
    "print(test_input.shape, test_target.shape)"
   ]
  },
  {
   "cell_type": "code",
   "execution_count": 6,
   "id": "6d1a262d-81c1-49f9-8bfa-0f89abb1a5a7",
   "metadata": {},
   "outputs": [],
   "source": [
    "### 훈련 및 테스트 독립변수의 차원이 1차원으로 되어 있음\n",
    "# - 머신러닝에서는 독립변수의 차원은 2차원이어야 함\n",
    "# - 훈련 및 테스트 독립변수의 차원을 2차원으로 만들려면\n",
    "# print(f\"원본 훈련 독립 데이터 : {train_input}\")\n",
    "\n",
    "### 2차원으로 변경하는 넘파이 함수 사용 : reshape(행, 열)\n",
    "# 첫번째 값 : -1은 전체 행을 의미\n",
    "# 두번째 값 : 생성할 열을 의미\n",
    "# reshape(-1, 1) : train_input 데이터의 전체 행에 대한 1개의 열을 생성 (행, 열로 만들어냄)\n",
    "train_input = train_input.reshape(-1, 1)\n",
    "test_input = test_input.reshape(-1, 1)"
   ]
  },
  {
   "cell_type": "code",
   "execution_count": 7,
   "id": "96ba5d92-c55f-46f7-9b2a-90a798c4a80f",
   "metadata": {},
   "outputs": [
    {
     "name": "stdout",
     "output_type": "stream",
     "text": [
      "(42, 1) (14, 1)\n"
     ]
    }
   ],
   "source": [
    "print(train_input.shape, test_input.shape)"
   ]
  },
  {
   "cell_type": "code",
   "execution_count": 8,
   "id": "d9ce6b15-51f7-4fb6-b5a4-b03a0a629b0a",
   "metadata": {},
   "outputs": [
    {
     "name": "stdout",
     "output_type": "stream",
     "text": [
      "(42, 1) (42,)\n",
      "(14, 1) (14,)\n"
     ]
    }
   ],
   "source": [
    "### 최종 원본\n",
    "print(train_input.shape, train_target.shape)\n",
    "print(test_input.shape, test_target.shape)"
   ]
  },
  {
   "cell_type": "markdown",
   "id": "464551d7-2181-4964-be8a-6bf98d6d759b",
   "metadata": {},
   "source": [
    "#### 회귀모델로 훈련하기"
   ]
  },
  {
   "cell_type": "code",
   "execution_count": 9,
   "id": "70f19bb3-b2ef-42e2-8a62-7c502db37d66",
   "metadata": {},
   "outputs": [],
   "source": [
    "### KNN 회귀모델 라이브러리 정의하기\n",
    "from sklearn.neighbors import KNeighborsRegressor"
   ]
  },
  {
   "cell_type": "code",
   "execution_count": 10,
   "id": "610dff0d-db16-48ae-86b4-b50dedae58b1",
   "metadata": {},
   "outputs": [
    {
     "name": "stdout",
     "output_type": "stream",
     "text": [
      "훈련 결정계수 : 0.9698823289099254, 테스트 결정계수 : 0.992809406101064\n"
     ]
    }
   ],
   "source": [
    "### 1. 모델 생성하기\n",
    "knr = KNeighborsRegressor()\n",
    "\n",
    "### 2. 모델 훈련시키기\n",
    "knr.fit(train_input, train_target)\n",
    "\n",
    "### 3. 훈련 및 테스트 결정계수(r2) 확인하기\n",
    "train_score = knr.score(train_input, train_target)\n",
    "test_score = knr.score(test_input, test_target)\n",
    "\n",
    "print(f\"훈련 결정계수 : {train_score}, 테스트 결정계수 : {test_score}\")"
   ]
  },
  {
   "cell_type": "markdown",
   "id": "d0537061",
   "metadata": {},
   "source": [
    "\n",
    "- 회귀모델의 결정계수(정확도)\n",
    "    - 회귀모델에서는 정확도라고 표현하지 않으며, \"결정계수\"라고 함\n",
    "    - 결정계수의 다른 표현 : 결정력, 설명력 이라고 함\n",
    "    - 결정계수 값의 범위 : 0 ~ 1 사이의 값 (1에 가까울 수록 좋음)\n",
    "    - 결과 문서 작성시 \n",
    "        - \"훈련의 결정계수가 0.97로 설명력이 매우 좋은 모델로 판단됨\" 이라고 작성함\n",
    "- 모델이 좋다 나쁘다의 판단 기준 값으로 사용\n",
    "- +- 0.03 정도의 오차가 있는 모델이라고 표현\n"
   ]
  },
  {
   "cell_type": "code",
   "execution_count": 11,
   "id": "d51000fd-13d7-44bc-a048-6b3ec9b75f8c",
   "metadata": {},
   "outputs": [
    {
     "name": "stdout",
     "output_type": "stream",
     "text": [
      "[  60.    79.6  248.   122.   136.   847.   311.4  183.4  847.   113.\n",
      " 1010.    60.   248.   248. ]\n",
      "[   5.9  100.   250.   130.   130.   820.   320.   188.   900.   125.\n",
      " 1000.    51.5  250.   300. ]\n"
     ]
    }
   ],
   "source": [
    "### 4. 테스트 데이터로 예측해 보기\n",
    "test_pred = knr.predict(test_input)\n",
    "print(test_pred)\n",
    "print(test_target)"
   ]
  },
  {
   "cell_type": "markdown",
   "id": "0892eee3",
   "metadata": {},
   "source": [
    "#### 정확도를 이용하여 모델 성능 평가하기 : 과적합여부 판정\n",
    "\n",
    "- 회귀분석 및 분류분석 모두 공통 적용되는 사항\n",
    "    - 훈련 이후 훈련 데이터를 이용한 정확도(socre)와 검증(테스트) 데이터를 이용한 정확도(score) 비교\n",
    "    - 비교한 결과를 기준으로 많은 차이가 나는 경우 -> \"과적합이 발생한다\" 라고 함\n",
    "    - 과적합 용어 : 과대적합, 과소적합, 일반화\n",
    "    - 과적합의 기준 : 정확한 정답은 없음(보통 0.1 차이가 나면 과적합이 발생한 것으로 봄)\n",
    "\n",
    "##### 과적합 분류\n",
    "- 과대적합\n",
    "    - 훈련 정확도 > 검증 (또는 테스트) 정확도인 경우\n",
    "    - 훈련 정확도가 1이 나온 경우 : 모델 사용 불가\n",
    "    - 훈련 정확도와 검증(또는 테스트) 정확도가 0.1 이상 차이가 나는 경우\n",
    "    - 과대적합 처리 방법\n",
    "        - 1. 데이터 양 늘리기 (데이터 추가 수집 필요) -> 데이터 수집에 어려움이 있음\n",
    "        - 2. 하이퍼 파라미터 튜닝 -> 일반적으로 선행해서 처리 시작\n",
    "        - 3. 다른 모델 찾기 -> 1, 2 번으로 처리가 안될 경우 사용\n",
    "    - 과소적합\n",
    "        - 훈련 정확도 < 검증 (또는 테스트) 정확도인 경우\n",
    "        - 훈련 모델 사용 불가\n",
    "        - 과소적합 처리 방법\n",
    "            - 1. 데이터 양 늘리기 (데이터 추가 수집 필요) -> 데이터 수집에 어려움이 있음\n",
    "            - 2. 하이퍼 파라미터 튜닝 -> 일반적으로 선행해서 처리 시작\n",
    "            - 3. 다른 모델 찾기 -> 1, 2 번으로 처리가 안될 경우 사용\n",
    "    - 일반화\n",
    "        - 훈련 정확도와 검증 (또는 테스트) 정확도 차이가 0.01 ~ 0.09 이내인 경우\n",
    "<br><br>\n",
    "\n",
    "- 문서에 표현하는 용어\n",
    "    - 일반화가 되었다는 가정하에 주로 사용\n",
    "    - 훈련 정확도(score) 0.95 이상 : 매우 훌륭한 모델\n",
    "    - 훈련 정확도(score) 0.90 이상 : 훌륭한 모델\n",
    "    - 훈련 정확도(score) 0.85 이상 : 좋은 모델\n",
    "    - 훈련 정확도(score) 0.85 미만 : 좋다라는 표현은 사용하지 않음\n",
    "\n",
    "- 가장 이상적인 정확도(score) 비교\n",
    "    - 훈련 정확도 > 검증 정확도 > 테스트 정확도 : 가장 이상적\n",
    "    - 훈련정확도 > 검증 정확도 < 테스트 정확도 : 이렇게 나오는 경우도 인정\n",
    "\n",
    "- 가장 이상적인 정확도를 만들기 위한 작업들\n",
    "    - 전처리 : 편향 처리, 적절한 데이터 분리, 스케일링\n",
    "    - 하이퍼 파라미터 튜닝 : 모델마다 가지고 있는 성능에 영향을 미치는 파라미터 값 수정\n",
    "    - 데이터 수집 : 양적 수집"
   ]
  },
  {
   "cell_type": "code",
   "execution_count": 12,
   "id": "ba2d3ac1",
   "metadata": {},
   "outputs": [
    {
     "name": "stdout",
     "output_type": "stream",
     "text": [
      "훈련 결정계수 : 0.9698823289099254, 테스트 결정계수 : 0.992809406101064\n"
     ]
    }
   ],
   "source": [
    "print(f\"훈련 결정계수 : {train_score}, 테스트 결정계수 : {test_score}\")"
   ]
  },
  {
   "cell_type": "code",
   "execution_count": 13,
   "id": "b4f14748",
   "metadata": {},
   "outputs": [],
   "source": [
    "### 훈련 score가 테스트 score보다 작게 나왔기 때문에 과소적합 발생\n",
    "# - 현재 상태로는 농어의 길이를 이용하여 무게를 예측하기 위한 KNN 회귀모델은 사용할 수 없음"
   ]
  },
  {
   "cell_type": "markdown",
   "id": "aebaa78f",
   "metadata": {},
   "source": [
    "- 과소적합 처리 방법\n",
    "    - 1. 데이터 양 늘리기 (데이터 추가 수집 필요)\n",
    "        - 데이터 수집에 어려움이 있음, 거의 못함\n",
    "    - 2. 하이퍼 파라미터 튜닝 -> 현재  상태에서 선행 가능\n",
    "        - 일반적으로 선행해서 처리 시작 -> 향후 진행\n",
    "    - 3. 다른 모델 찾기 -> 1, 2 번으로 처리가 안될 경우 사용"
   ]
  },
  {
   "cell_type": "markdown",
   "id": "d093a973",
   "metadata": {},
   "source": [
    "#### 하이퍼 파라미터 튜닝\n",
    "\n",
    "- 모델마다 튜닝할 파라미터는 각기 다름\n",
    "- KNN 에서 기본적으로 튜닝할 파라미터 : 이웃의 갯수\n",
    "- 튜닝방법\n",
    "    1. 훈련모델 생성\n",
    "     2. 최초 훈련 시키기\n",
    "     3. 하이퍼 파라미터 값 변경 > 훈련 시키기\n",
    "     4. 정확도 확인\n",
    "     5. 3번 ~ 4번 반복"
   ]
  },
  {
   "cell_type": "code",
   "execution_count": 14,
   "id": "d839723c",
   "metadata": {},
   "outputs": [
    {
     "name": "stdout",
     "output_type": "stream",
     "text": [
      "훈련 결정계수 : 0.9698823289099254, 테스트 결정계수 : 0.992809406101064, 훈련 - 테스트 : -0.022927077191138623\n"
     ]
    }
   ],
   "source": [
    "### 기존 훈련시킨 모델을 그대로 사용하여 하이퍼 파라미터 값 변경 후 재훈련\n",
    "# - 하이퍼 파라미터 이웃의 갯수 5로 정의\n",
    "knr.n_neighbors = 5\n",
    "\n",
    "# - 훈련 시키기\n",
    "knr.fit(train_input, train_target)\n",
    "\n",
    "# - 훈련 정확도 및 테스트 정확도 확인\n",
    "train_score = knr.score(train_input, train_target)\n",
    "test_score = knr.score(test_input, test_target)\n",
    "\n",
    "# 훈련 및 테스트 차이 확인\n",
    "print(f\"훈련 결정계수 : {train_score}, 테스트 결정계수 : {test_score}, 훈련 - 테스트 : {train_score - test_score}\")\n",
    "\n",
    "# - 최초(이웃 5개) : 훈련 결정계수 : 0.9698823289099254, 테스트 결정계수 : 0.992809406101064\n",
    "# 결과 : 훈련 결정계수 : 0.9698823289099254, 테스트 결정계수 : 0.992809406101064, 훈련 - 테스트 : -0.022927077191138623"
   ]
  },
  {
   "cell_type": "code",
   "execution_count": 15,
   "id": "c7f99c84",
   "metadata": {},
   "outputs": [
    {
     "name": "stdout",
     "output_type": "stream",
     "text": [
      "훈련 결정계수 : 0.9804899950518966, 테스트 결정계수 : 0.9746459963987609, 훈련 - 테스트 : 0.005843998653135674\n"
     ]
    }
   ],
   "source": [
    "### 하이퍼 파라미터 이웃의 갯수 3으로 확인\n",
    "knr.n_neighbors = 3\n",
    "\n",
    "# - 훈련 시키기\n",
    "knr.fit(train_input, train_target)\n",
    "\n",
    "# - 훈련 정확도 및 테스트 정확도 확인\n",
    "train_score = knr.score(train_input, train_target)\n",
    "test_score = knr.score(test_input, test_target)\n",
    "\n",
    "# 훈련 및 테스트 차이 확인\n",
    "print(f\"훈련 결정계수 : {train_score}, 테스트 결정계수 : {test_score}, 훈련 - 테스트 : {train_score - test_score}\")\n",
    "\n",
    "# - 최초(이웃 5개) : 훈련 결정계수 : 0.9698823289099254, 테스트 결정계수 : 0.992809406101064\n",
    "# 결과(이웃 3개) : 훈련 결정계수 : 0.9804899950518966, 테스트 결정계수 : 0.9746459963987609, 훈련 - 테스트 : 0.005843998653135674"
   ]
  },
  {
   "cell_type": "code",
   "execution_count": 16,
   "id": "ba291323",
   "metadata": {},
   "outputs": [
    {
     "name": "stdout",
     "output_type": "stream",
     "text": [
      "훈련 결정계수 : 0.9804899950518966, 테스트 결정계수 : 0.9746459963987609, 훈련 - 테스트 : 0.005843998653135674\n",
      "훈련 결정계수 : 0.9698823289099254, 테스트 결정계수 : 0.992809406101064, 훈련 - 테스트 : -0.022927077191138623\n",
      "훈련 결정계수 : 0.9761170732051527, 테스트 결정계수 : 0.9781383949643516, 훈련 - 테스트 : -0.002021321759198891\n",
      "훈련 결정계수 : 0.9693310367551284, 테스트 결정계수 : 0.9692647749722698, 훈련 - 테스트 : 6.626178285862316e-05\n",
      "훈련 결정계수 : 0.9515761381539326, 테스트 결정계수 : 0.970279643030474, 훈련 - 테스트 : -0.018703504876541377\n",
      "훈련 결정계수 : 0.9413423450130075, 테스트 결정계수 : 0.9639044643206888, 훈련 - 테스트 : -0.02256211930768126\n",
      "훈련 결정계수 : 0.930201118360776, 테스트 결정계수 : 0.9554827691127018, 훈련 - 테스트 : -0.025281650751925788\n",
      "훈련 결정계수 : 0.9087778943199959, 테스트 결정계수 : 0.9314058693169347, 훈련 - 테스트 : -0.022627974996938804\n",
      "훈련 결정계수 : 0.8782082893573573, 테스트 결정계수 : 0.900993697623706, 훈련 - 테스트 : -0.022785408266348672\n",
      "훈련 결정계수 : 0.8410922229110086, 테스트 결정계수 : 0.8596922255009882, 훈련 - 테스트 : -0.018600002589979625\n",
      "훈련 결정계수 : 0.7915879473391005, 테스트 결정계수 : 0.8146418957364303, 훈련 - 테스트 : -0.02305394839732977\n",
      "훈련 결정계수 : 0.7452999142836829, 테스트 결정계수 : 0.7667897994036779, 훈련 - 테스트 : -0.021489885119994945\n",
      "훈련 결정계수 : 0.6908904295441316, 테스트 결정계수 : 0.7131817408006262, 훈련 - 테스트 : -0.02229131125649464\n",
      "훈련 결정계수 : 0.6245508306350807, 테스트 결정계수 : 0.6429925427310261, 훈련 - 테스트 : -0.018441712095945473\n",
      "훈련 결정계수 : 0.5505387544219442, 테스트 결정계수 : 0.5653184638150339, 훈련 - 테스트 : -0.014779709393089702\n",
      "훈련 결정계수 : 0.4752451966763833, 테스트 결정계수 : 0.4834613125728193, 훈련 - 테스트 : -0.008216115896436005\n",
      "훈련 결정계수 : 0.39478071361200084, 테스트 결정계수 : 0.3957495287182914, 훈련 - 테스트 : -0.0009688151062905437\n",
      "훈련 결정계수 : 0.28970143088637, 테스트 결정계수 : 0.27891888794463027, 훈련 - 테스트 : 0.010782542941739748\n",
      "훈련 결정계수 : 0.18151707588188104, 테스트 결정계수 : 0.15639071677015748, 훈련 - 테스트 : 0.025126359111723562\n",
      "훈련 결정계수 : 0.05978205016667115, 테스트 결정계수 : 0.013071066272332454, 훈련 - 테스트 : 0.0467109838943387\n"
     ]
    }
   ],
   "source": [
    "### 이웃의 갯수가 3일때 보다 더 좋은 성능을나타낼 수 있는 이웃의 갯수 찾기\n",
    "\n",
    "for idx in range(3, len(train_input), 2) :\n",
    "    knr.n_neighbors = idx\n",
    "    knr.fit(train_input, train_target)\n",
    "    train_score = knr.score(train_input, train_target)\n",
    "    test_score = knr.score(test_input, test_target)\n",
    "\n",
    "    # 훈련 및 테스트 차이 확인\n",
    "    print(f\"훈련 결정계수 : {train_score}, 테스트 결정계수 : {test_score}, 훈련 - 테스트 : {train_score - test_score}\")\n",
    "\n",
    "# - 최초(이웃 5개) : 훈련 결정계수 : 0.9698823289099254, 테스트 결정계수 : 0.992809406101064"
   ]
  },
  {
   "cell_type": "code",
   "execution_count": 17,
   "id": "8272f752",
   "metadata": {},
   "outputs": [
    {
     "data": {
      "image/png": "[encoded data removed]",
      "text/plain": [
       "<Figure size 640x480 with 1 Axes>"
      ]
     },
     "metadata": {},
     "output_type": "display_data"
    }
   ],
   "source": [
    "### 이웃의 갯수 3 ~ 훈련 데이터의 갯수만큼 훈련 시킨 결과\n",
    "# - 훈련 정확도와 테스트 정확도를 선그래프 시각적으로 확인\n",
    "# - x축 : 이웃의 갯수, y축 : 훈련 및 테스트 정확도\n",
    "# - 훈련 정확도 선과 테스트 정확도 선을 하나의 그래프에 그려서 비교\n",
    "\n",
    "# x, y 값을 저장할 리스트 초기화\n",
    "train_scores = []\n",
    "test_scores = []\n",
    "neighbors = []\n",
    "x_index = np.arange(3, len(train_input)+1, 2)\n",
    "\n",
    "plt.title(\"이웃의 갯수에 따른 훈련 및 테스트 정확도 비교\")\n",
    "\n",
    "# k 값에 따라 정확도를 계산\n",
    "for idx in range(3, len(train_input), 2):\n",
    "    knr.n_neighbors = idx\n",
    "    knr.fit(train_input, train_target)\n",
    "    train_score = knr.score(train_input, train_target)\n",
    "    test_score = knr.score(test_input, test_target)\n",
    "\n",
    "    # 정확도 값을 리스트에 추가\n",
    "    # plot()은 리스트를 가지고 그래프를 그리기 때문\n",
    "    neighbors.append(idx)\n",
    "    train_scores.append(train_score)\n",
    "    test_scores.append(test_score)\n",
    "\n",
    "# 훈련 정확도와 테스트 정확도 선 그래프 그리기\n",
    "plt.plot(neighbors, train_scores, label='훈련 정확도', color='yellowgreen')\n",
    "plt.plot(neighbors, test_scores, label='테스트 정확도', color='skyblue')\n",
    "\n",
    "# x축 값 상세히 표시\n",
    "plt.xticks(x_index)\n",
    "\n",
    "# 그래프의 격자 추가\n",
    "plt.grid()\n",
    "\n",
    "# x축, y축 이름 설정\n",
    "plt.xlabel(\"이웃의 갯수\")\n",
    "plt.ylabel(\"정확도\")\n",
    "\n",
    "# 범례 추가\n",
    "plt.legend()\n",
    "\n",
    "# 그래프 보여주기\n",
    "plt.show()"
   ]
  },
  {
   "cell_type": "code",
   "execution_count": 18,
   "id": "6f2143d1",
   "metadata": {},
   "outputs": [
    {
     "name": "stdout",
     "output_type": "stream",
     "text": [
      "훈련 결정계수 : 0.9804899950518966, 테스트 결정계수 : 0.9746459963987609, 훈련 - 테스트 : 0.005843998653135674\n"
     ]
    }
   ],
   "source": [
    "### 최적의 이웃의 갯수 3으로 모델 신규 생성 및 훈련\n",
    "knr.n_neighbors = 3\n",
    "\n",
    "# - 훈련 시키기\n",
    "knr.fit(train_input, train_target)\n",
    "\n",
    "# - 훈련 정확도 및 테스트 정확도 확인\n",
    "train_score = knr.score(train_input, train_target)\n",
    "test_score = knr.score(test_input, test_target)\n",
    "\n",
    "# 훈련 및 테스트 차이 확인\n",
    "print(f\"훈련 결정계수 : {train_score}, 테스트 결정계수 : {test_score}, 훈련 - 테스트 : {train_score - test_score}\")"
   ]
  },
  {
   "cell_type": "markdown",
   "id": "9952f09d",
   "metadata": {},
   "source": [
    "#### 최종 평가하기\n",
    "\n",
    "- 회귀분석 평가\n",
    "    - 평가를 위해서는 예측(predict)이 선행 되어야 함\n",
    "    - 예측된 결과를 기준으로 평가를 수행\n",
    "\n",
    "- 회귀분석 평가 방법\n",
    "    - 평균절대오차(MAE, Mean Absolute Error)\n",
    "    - 평균제곱오차(MSE, Mean Squere Error)\n",
    "    - 결정계수(R2-score) == score()와 동일\n",
    "\n",
    "- 평과 결과 해석\n",
    "    - 평균절대오차(MAE)의 결과를 이용해서 오차의 범위 확인 가능\n",
    "    - 결정계수(R2) 값을 이용하여 모델 선정여부 판정\n",
    "        - 여러 모델들간에 비교하여 최종 선정 시에 R2-score의 값을 기준으로 선정여부 판정\n",
    "        - 여러 모델 선정 기준 : R2-score 값이 높고 훈련 정확도가 높은 모델 선정"
   ]
  },
  {
   "cell_type": "code",
   "execution_count": 19,
   "id": "a448a3e7",
   "metadata": {},
   "outputs": [
    {
     "data": {
      "text/plain": [
       "array([  47.33333333,   76.        ,  247.66666667,  120.        ,\n",
       "        143.33333333,  921.66666667,  275.        ,  183.33333333,\n",
       "        773.33333333,  120.        , 1033.33333333,   62.66666667,\n",
       "        275.        ,  247.66666667])"
      ]
     },
     "execution_count": 19,
     "metadata": {},
     "output_type": "execute_result"
    }
   ],
   "source": [
    "### 테스트 데이터로 예측하기\n",
    "# - 결과값은 예측된 종속변수의 값\n",
    "test_pred = knr.predict(test_input)\n",
    "test_pred"
   ]
  },
  {
   "cell_type": "markdown",
   "id": "e9bf61ca",
   "metadata": {},
   "source": [
    "#### 평균절대오차(MAE) 평가하기"
   ]
  },
  {
   "cell_type": "code",
   "execution_count": 20,
   "id": "41b464c8",
   "metadata": {},
   "outputs": [],
   "source": [
    "# - MAE 라이브러리 정의\n",
    "from sklearn.metrics import mean_absolute_error"
   ]
  },
  {
   "cell_type": "code",
   "execution_count": 21,
   "id": "9cd4771d",
   "metadata": {},
   "outputs": [
    {
     "data": {
      "text/plain": [
       "35.42380952380951"
      ]
     },
     "execution_count": 21,
     "metadata": {},
     "output_type": "execute_result"
    }
   ],
   "source": [
    "### MEA 평가\n",
    "# - mean_absolute_error(실제 종속변수, 예측 종속변수)\n",
    "mea = mean_absolute_error(test_target, test_pred)\n",
    "\n",
    "mea\n",
    "\n",
    "### 해석\n",
    "# - 해당 훈련 모델을 이용하여 농어의 무게를 예측할 경우\n",
    "# - 약 (+-)35.42g 정도의 오차가 발생할 수 있는 모델임"
   ]
  },
  {
   "cell_type": "markdown",
   "id": "b057e92d",
   "metadata": {},
   "source": [
    "#### 임의 값으로 예측하기"
   ]
  },
  {
   "cell_type": "code",
   "execution_count": 26,
   "id": "bc425880",
   "metadata": {},
   "outputs": [
    {
     "data": {
      "text/plain": [
       "array([1033.33333333])"
      ]
     },
     "execution_count": 26,
     "metadata": {},
     "output_type": "execute_result"
    }
   ],
   "source": [
    "### 임의 값 길이 50cm로 무게 예측해 보기\n",
    "# 예측 결과값을 pred 변수에 담기\n",
    "pred = knr.predict([[50]])\n",
    "\n",
    "pred"
   ]
  },
  {
   "cell_type": "code",
   "execution_count": 27,
   "id": "f57cc238",
   "metadata": {},
   "outputs": [
    {
     "data": {
      "text/plain": [
       "array([[34,  8, 14]], dtype=int64)"
      ]
     },
     "execution_count": 27,
     "metadata": {},
     "output_type": "execute_result"
    }
   ],
   "source": [
    "### 임의 값 길이 50cm에 사용된 이웃 데이터의 인덱스 번호 추출\n",
    "# 인덱스 번호 변수명 : indexes\n",
    "distances, indexes = knr.kneighbors([[50]])\n",
    "indexes"
   ]
  },
  {
   "cell_type": "code",
   "execution_count": 30,
   "id": "4fe68ce3",
   "metadata": {},
   "outputs": [
    {
     "data": {
      "image/png": "[encoded data removed]",
      "text/plain": [
       "<Figure size 640x480 with 1 Axes>"
      ]
     },
     "metadata": {},
     "output_type": "display_data"
    }
   ],
   "source": [
    "### 훈련 데이터(연두색), 이웃(하늘색), 임의값(빨강색)을 산점도로 그리기\n",
    "plt.title(\"훈련, 이웃, 임의값(50cn, 예측무게)의 산점도 시각화\")\n",
    "\n",
    "# 훈련 데이터\n",
    "plt.scatter(train_input, train_target, c=\"yellowgreen\", label=\"train\")\n",
    "\n",
    "# 이웃 데이터\n",
    "plt.scatter(train_input[indexes], train_target[indexes], c=\"skyblue\", label=\"kn\")\n",
    "\n",
    "# 임의 데이터\n",
    "plt.scatter(50, pred[0], c=\"red\", label=\"pred\")\n",
    "\n",
    "plt.xlabel(\"길이\")\n",
    "plt.ylabel(\"무게\")\n",
    "\n",
    "# 범례 추가\n",
    "plt.legend()\n",
    "\n",
    "# 그래프 보여주기\n",
    "plt.show()\n"
   ]
  },
  {
   "cell_type": "code",
   "execution_count": 32,
   "id": "40be7b36",
   "metadata": {},
   "outputs": [
    {
     "name": "stdout",
     "output_type": "stream",
     "text": [
      "예측 결과 : [1033.33333333]\n"
     ]
    },
    {
     "data": {
      "image/png": "[encoded data removed]",
      "text/plain": [
       "<Figure size 640x480 with 1 Axes>"
      ]
     },
     "metadata": {},
     "output_type": "display_data"
    }
   ],
   "source": [
    "### 임의 값 길이 100cm로 무게 예측해 보기\n",
    "pred = knr.predict([[100]])\n",
    "print(f\"예측 결과 : {pred}\")\n",
    "\n",
    "### 임의 값 길이 100cm에 사용된 이웃 데이터의 인덱스 번호 추출\n",
    "distances, indexes = knr.kneighbors([[100]])\n",
    "\n",
    "### 훈련 데이터(연두색), 이웃(하늘색), 임의값(빨강색)을 산점도로 그리기\n",
    "plt.title(\"훈련, 이웃, 임의값(100cn, 예측무게)의 산점도 시각화\")\n",
    "\n",
    "# 훈련 데이터\n",
    "plt.scatter(train_input, train_target, c=\"yellowgreen\", label=\"train\")\n",
    "\n",
    "# 이웃 데이터\n",
    "plt.scatter(train_input[indexes], train_target[indexes], c=\"skyblue\", label=\"kn\")\n",
    "\n",
    "# 임의 데이터\n",
    "plt.scatter(100, pred[0], c=\"red\", label=\"pred\")\n",
    "\n",
    "plt.xlabel(\"길이\")\n",
    "plt.ylabel(\"무게\")\n",
    "\n",
    "# 범례 추가\n",
    "plt.legend()\n",
    "\n",
    "plt.show()"
   ]
  },
  {
   "cell_type": "code",
   "execution_count": 33,
   "id": "3360875d",
   "metadata": {},
   "outputs": [
    {
     "name": "stdout",
     "output_type": "stream",
     "text": [
      "예측 결과 : [1033.33333333]\n"
     ]
    },
    {
     "data": {
      "image/png": "[encoded data removed]",
      "text/plain": [
       "<Figure size 640x480 with 1 Axes>"
      ]
     },
     "metadata": {},
     "output_type": "display_data"
    }
   ],
   "source": [
    "### 임의 값 길이 1000cm로 무게 예측해 보기\n",
    "pred = knr.predict([[1000]])\n",
    "print(f\"예측 결과 : {pred}\")\n",
    "\n",
    "### 임의 값 길이 100cm에 사용된 이웃 데이터의 인덱스 번호 추출\n",
    "distances, indexes = knr.kneighbors([[1000]])\n",
    "\n",
    "### 훈련 데이터(연두색), 이웃(하늘색), 임의값(빨강색)을 산점도로 그리기\n",
    "plt.title(\"훈련, 이웃, 임의값(1000cn, 예측무게)의 산점도 시각화\")\n",
    "\n",
    "# 훈련 데이터\n",
    "plt.scatter(train_input, train_target, c=\"yellowgreen\", label=\"train\")\n",
    "\n",
    "# 이웃 데이터\n",
    "plt.scatter(train_input[indexes], train_target[indexes], c=\"skyblue\", label=\"kn\")\n",
    "\n",
    "# 임의 데이터\n",
    "plt.scatter(1000, pred[0], c=\"red\", label=\"pred\")\n",
    "\n",
    "plt.xlabel(\"길이\")\n",
    "plt.ylabel(\"무게\")\n",
    "\n",
    "# 범례 추가\n",
    "plt.legend()\n",
    "\n",
    "plt.show()"
   ]
  },
  {
   "cell_type": "markdown",
   "id": "54b687c6",
   "metadata": {},
   "source": [
    "##### 해석\n",
    "- 길이를 50cm, 100cm, 1000cm를 사용 하였을 때 무게의 예측값이 모두 같게 나타나는 문제 발생\n",
    "- 원인\n",
    "    - 훈련 데이터의 길이의 최소 ~ 최대 범위를 벗어난 임의의 길이 값으로 예측 할 경우\n",
    "    - 항상 가장 가까운 이웃들만 선택되는 현상이 발생\n",
    "    - 즉, 거리가 멀더라도 가장 가까운 것으로 인지하게 됨\n",
    "- 결론\n",
    "    - KNN 모델이 훈련 시 사용한 훈련 데이터의 값의 범위를 벗어난 임의 값들은 예측이 불가능함\n",
    "    - 예측은 가능하지만 정확도를 인증받을 수 없음\n",
    "    - KNN의 한계로 이를 해결할 수 있는 방법은 없음\n",
    "    - KNN 모델을 사용하려면 예측 전제조건으로 훈련 데이터의 값의 min ~ max의 범위로 한정해야 함\n",
    "    - 이를 극복한 다른 모델을 사용해야 함(KNN 이후 만들어진 모델들은 한계 없이 사용됨)"
   ]
  }
 ],
 "metadata": {
  "kernelspec": {
   "display_name": "base",
   "language": "python",
   "name": "python3"
  },
  "language_info": {
   "codemirror_mode": {
    "name": "ipython",
    "version": 3
   },
   "file_extension": ".py",
   "mimetype": "text/x-python",
   "name": "python",
   "nbconvert_exporter": "python",
   "pygments_lexer": "ipython3",
   "version": "3.12.7"
  }
 },
 "nbformat": 4,
 "nbformat_minor": 5
}
